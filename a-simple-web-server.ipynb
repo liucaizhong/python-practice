{
 "metadata": {
  "language_info": {
   "codemirror_mode": {
    "name": "ipython",
    "version": 3
   },
   "file_extension": ".py",
   "mimetype": "text/x-python",
   "name": "python",
   "nbconvert_exporter": "python",
   "pygments_lexer": "ipython3",
   "version": "3.8.2-final"
  },
  "orig_nbformat": 2,
  "kernelspec": {
   "name": "python382jvsc74a57bd031f2aee4e71d21fbe5cf8b01ff0e069b9275f58929596ceb00d14d90e3e16cd6",
   "display_name": "Python 3.8.2 64-bit"
  },
  "metadata": {
   "interpreter": {
    "hash": "31f2aee4e71d21fbe5cf8b01ff0e069b9275f58929596ceb00d14d90e3e16cd6"
   }
  }
 },
 "nbformat": 4,
 "nbformat_minor": 2,
 "cells": [
  {
   "cell_type": "code",
   "execution_count": 12,
   "metadata": {},
   "outputs": [
    {
     "output_type": "stream",
     "name": "stdout",
     "text": [
      "<html>\n  <body>\n    <p>Test page.</p>\n  </body>\n</html>\n\n"
     ]
    }
   ],
   "source": [
    "import requests\n",
    "response = requests.get('http://aosabook.org/en/500L/web-server/testpage.html')\n",
    "print(response.text)"
   ]
  },
  {
   "cell_type": "code",
   "execution_count": 13,
   "metadata": {},
   "outputs": [
    {
     "output_type": "stream",
     "name": "stdout",
     "text": [
      "b'<html>\\n  <body>\\n    <p>Test page.</p>\\n  </body>\\n</html>\\n'\n"
     ]
    }
   ],
   "source": [
    "import urllib.request as request\n",
    "req = request.Request('http://aosabook.org/en/500L/web-server/testpage.html')\n",
    "response = request.urlopen(req)\n",
    "print(response.read())"
   ]
  },
  {
   "cell_type": "code",
   "execution_count": null,
   "metadata": {},
   "outputs": [],
   "source": [
    "from http.server import HTTPServer, BaseHTTPRequestHandler\n",
    "\n",
    "class RequestHandler(BaseHTTPRequestHandler):\n",
    "    Page = '''\\\n",
    "<html>\n",
    "<body>\n",
    "<p>Hello, web!</p>\n",
    "</body>\n",
    "</html>\n",
    "'''\n",
    "    def do_GET(self):\n",
    "        self.send_response(200)\n",
    "        self.send_header('Content-Type', 'text/html')\n",
    "        self.send_header('Content-Length', str(len(self.Page)))\n",
    "        self.end_headers()\n",
    "        self.wfile.write(self.Page)\n",
    "\n",
    "if __name__ =='__main__':\n",
    "    serverAddress = ('', 8080)\n",
    "    server = HTTPServer(server_address=serverAddress, RequestHandlerClass=RequestHandler)\n",
    "    server.serve_forever()"
   ]
  },
  {
   "cell_type": "code",
   "execution_count": null,
   "metadata": {},
   "outputs": [],
   "source": []
  }
 ]
}